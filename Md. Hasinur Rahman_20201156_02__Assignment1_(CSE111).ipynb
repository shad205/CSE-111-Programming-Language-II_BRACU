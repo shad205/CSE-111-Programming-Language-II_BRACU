{
 "cells": [
  {
   "cell_type": "markdown",
   "metadata": {
    "id": "JrMjzLoLbBZ2"
   },
   "source": [
    "Assignment1 (CSE111)\n",
    "\n",
    "Name: Md. Hasinur Rahman\n",
    "\n",
    "Student ID: 20201156\n",
    "\n",
    "Section: 02\n",
    "\n"
   ]
  },
  {
   "cell_type": "markdown",
   "metadata": {
    "id": "QbrqljxGbjza"
   },
   "source": [
    "String\n"
   ]
  },
  {
   "cell_type": "code",
   "execution_count": 1,
   "metadata": {
    "colab": {
     "base_uri": "https://localhost:8080/"
    },
    "id": "QFxauBZAbAIE",
    "outputId": "20ab86f3-012b-4746-a125-36befafefa52"
   },
   "outputs": [
    {
     "name": "stdout",
     "output_type": "stream",
     "text": [
      "HouSE\n",
      "HOUSE\n"
     ]
    }
   ],
   "source": [
    "#task1\n",
    "\n",
    "x = input()\n",
    "a = 0\n",
    "b = 0\n",
    "\n",
    "for index in x:\n",
    "    if index == index.upper():\n",
    "        a += 1\n",
    "        \n",
    "    else:\n",
    "        b += 1\n",
    "        \n",
    "if a > b:\n",
    "    x = x.upper()\n",
    "    \n",
    "else:\n",
    "    x=x.lower()\n",
    "    \n",
    "print(x)    "
   ]
  },
  {
   "cell_type": "code",
   "execution_count": 2,
   "metadata": {
    "colab": {
     "base_uri": "https://localhost:8080/"
    },
    "id": "jFrMexffcecI",
    "outputId": "888c3704-9386-47f4-d9c2-669a9bc87753"
   },
   "outputs": [
    {
     "name": "stdout",
     "output_type": "stream",
     "text": [
      "JKH123\n",
      "Mixed\n"
     ]
    }
   ],
   "source": [
    "#task2\n",
    "\n",
    "x = input()\n",
    "a = (\"1\",\"2\",\"3\",\"4\",\"5\",\"6\",\"7\",\"8\",\"9\")\n",
    "b = 0\n",
    "i = 0\n",
    "\n",
    "while i < len(x):\n",
    "    if x[i] in a:\n",
    "        b += 1\n",
    "    i += 1\n",
    "    \n",
    "if b == len(x):\n",
    "    print(\"Number\")\n",
    "    \n",
    "elif b == 0:\n",
    "    print(\"word\")\n",
    "    \n",
    "else:\n",
    "    print(\"Mixed\")"
   ]
  },
  {
   "cell_type": "code",
   "execution_count": 6,
   "metadata": {
    "colab": {
     "base_uri": "https://localhost:8080/"
    },
    "id": "wKplN0drpqTu",
    "outputId": "e75b4d88-64c7-4c6d-8fa3-9ff71ccfbffb"
   },
   "outputs": [
    {
     "name": "stdout",
     "output_type": "stream",
     "text": [
      "coDIng\n",
      "BLANK!!\n"
     ]
    }
   ],
   "source": [
    "#task3\n",
    "\n",
    "x = input()\n",
    "index = 0\n",
    "var_1 = 0\n",
    "var_2 = 0\n",
    "\n",
    "for i in range (len(x)):\n",
    "  \n",
    "    if x[i].isupper() and index == 0:\n",
    "        var_1 = i+1\n",
    "        index += 1\n",
    "        continue\n",
    "        \n",
    "    elif x[i].isupper() and index == 1:\n",
    "        var_2 = i\n",
    "        \n",
    "    else:\n",
    "        continue\n",
    "        \n",
    "if (x[var_1:var_2]) == \"\":\n",
    "    print(\"BLANK!!\")\n",
    "    \n",
    "else:\n",
    "    print(x[var_1:var_2])"
   ]
  },
  {
   "cell_type": "code",
   "execution_count": 7,
   "metadata": {
    "colab": {
     "base_uri": "https://localhost:8080/"
    },
    "id": "pHjg7GpFptAh",
    "outputId": "31ff0066-89e2-4ccb-dbcf-7e752b1fc6ca"
   },
   "outputs": [
    {
     "name": "stdout",
     "output_type": "stream",
     "text": [
      "The book is not too good!\n",
      "The book is not excellent!\n"
     ]
    }
   ],
   "source": [
    "#task4\n",
    "\n",
    "x=input()\n",
    "\n",
    "if 'too good!' in x:\n",
    "        print(x.replace('too good!','excellent!'))\n",
    "        \n",
    "else:\n",
    "    print(x)"
   ]
  },
  {
   "cell_type": "code",
   "execution_count": 8,
   "metadata": {
    "colab": {
     "base_uri": "https://localhost:8080/"
    },
    "id": "tQHeCFZGvawQ",
    "outputId": "f6ac42a0-94bd-4d21-d2c2-6bacff3c8e69"
   },
   "outputs": [
    {
     "name": "stdout",
     "output_type": "stream",
     "text": [
      "dean\n",
      "tom\n",
      "\n",
      "Nothing in common\n"
     ]
    }
   ],
   "source": [
    "#task5\n",
    "\n",
    "s1 = input()\n",
    "s2 = input()\n",
    "l1 = len(s1)\n",
    "l2 = len(s2)\n",
    "\n",
    "new_string=''\n",
    "\n",
    "for index in range(l1):\n",
    "    if s1[index] in s2:\n",
    "        new_string = new_string + s1[index]\n",
    "\n",
    "for i in range(l2):\n",
    "    if s2[i] in s1:\n",
    "        new_string = new_string + st2[i]\n",
    "\n",
    "print(new_string)\n",
    "\n",
    "if len(new_string) == 0:\n",
    "    print('Nothing in common')"
   ]
  },
  {
   "cell_type": "code",
   "execution_count": 10,
   "metadata": {
    "colab": {
     "base_uri": "https://localhost:8080/"
    },
    "id": "f8LuVv1cvcUS",
    "outputId": "9e3dadc3-7cc5-408e-98e0-a4ea51f1d7d4"
   },
   "outputs": [
    {
     "name": "stdout",
     "output_type": "stream",
     "text": [
      "cu@gmau@cc\n",
      "Uppercase character missing. Digit missing.\n"
     ]
    }
   ],
   "source": [
    "#task6\n",
    "\n",
    "def password_checker(string):\n",
    "    upper_Counter = 0\n",
    "    lower_Counter = 0\n",
    "    digit_Counter = 0\n",
    "    special_Character_Count = 0\n",
    "    result = \"\"\n",
    "    special_Character = [\"@\", \"_\", \"$\", \"#\"]\n",
    "    \n",
    "    for char in string:\n",
    "        if char.isupper():\n",
    "            upper_Counter += 1\n",
    "            \n",
    "        if char.islower():\n",
    "            lower_Counter += 1\n",
    "            \n",
    "        if char.isdigit():\n",
    "            digit_Counter += 1\n",
    "            \n",
    "        if char in special_Character:\n",
    "            special_Character_Count += 1\n",
    "            \n",
    "    if special_Character_Count == 0:\n",
    "        result = result + \"Special Character missing. \"\n",
    "        \n",
    "    if upper_Counter == 0:\n",
    "        result = result + \"Uppercase character missing. \"\n",
    "        \n",
    "    if lower_Counter == 0:\n",
    "        result = result + \" Lowercase character missing. \"\n",
    "        \n",
    "    if digit_Counter == 0:\n",
    "        result = result + \"Digit missing.\"\n",
    "        \n",
    "    if result == \"\":\n",
    "        result = \"Ok\"\n",
    "    print(result)\n",
    "    \n",
    "string = input()\n",
    "\n",
    "password_checker(string)"
   ]
  },
  {
   "cell_type": "markdown",
   "metadata": {
    "id": "2p-mbX-WzrFN"
   },
   "source": [
    "List\n"
   ]
  },
  {
   "cell_type": "code",
   "execution_count": 1,
   "metadata": {
    "colab": {
     "base_uri": "https://localhost:8080/"
    },
    "id": "UkxFE_n4zvYQ",
    "outputId": "0b9b91fd-1e42-40ee-992c-39f79da30f6b"
   },
   "outputs": [
    {
     "name": "stdout",
     "output_type": "stream",
     "text": [
      "10\n",
      "20\n",
      "20\n",
      "40\n",
      "50\n",
      "50\n",
      "70\n",
      "STOP\n",
      "10 - 1 times\n",
      "20 - 2 times\n",
      "40 - 1 times\n",
      "50 - 2 times\n"
     ]
    }
   ],
   "source": [
    "#task1\n",
    "\n",
    "inp = []\n",
    "counter = []\n",
    "\n",
    "while True:\n",
    "    x = input()\n",
    "    if x == 'STOP':\n",
    "        break\n",
    "        \n",
    "    elif int(x) not in inp:\n",
    "        inp.append(int(x))\n",
    "        counter.append(1)\n",
    "        \n",
    "    elif int(x) in inp:\n",
    "        counter[inp.index(int(x))] += 1\n",
    "        \n",
    "for index in range(len(counter)-1):\n",
    "    print(inp[index],'-', counter[index],'times')"
   ]
  },
  {
   "cell_type": "code",
   "execution_count": 2,
   "metadata": {
    "colab": {
     "base_uri": "https://localhost:8080/"
    },
    "id": "anQUlBVC5fYh",
    "outputId": "56ecaa36-e342-4aa4-b448-176c5dc78ce7"
   },
   "outputs": [
    {
     "name": "stdout",
     "output_type": "stream",
     "text": [
      "4\n",
      "Enter a number: 1 2 3\n",
      "Enter a number: 4 5 6\n",
      "Enter a number: 10 11 12\n",
      "Enter a number: 7 8 9\n",
      "33\n",
      "[10, 11, 12]\n"
     ]
    }
   ],
   "source": [
    "#task2\n",
    "\n",
    "x =  int(input())\n",
    "bigger = []\n",
    "summation = []\n",
    "\n",
    "for index in range(x):\n",
    "    a = input(\"Enter a number: \")\n",
    "    b =a.split(' ')\n",
    "    \n",
    "    for i in range(len(b)):\n",
    "        b[i] = int(b[i])\n",
    "    bigger.append(b)\n",
    "    summation.append(sum(bigger[index]))\n",
    "\n",
    "print(max(summation))\n",
    "print(bigger[summation.index(max(summation))])"
   ]
  },
  {
   "cell_type": "code",
   "execution_count": 3,
   "metadata": {
    "colab": {
     "base_uri": "https://localhost:8080/"
    },
    "id": "yaWxSeMX-1bZ",
    "outputId": "191d644e-e029-44ed-89f1-b2ba49ac1b6e"
   },
   "outputs": [
    {
     "name": "stdout",
     "output_type": "stream",
     "text": [
      "[6, 8, 10, 9, 12, 15, 18, 24, 30]\n"
     ]
    }
   ],
   "source": [
    "#taske3\n",
    "\n",
    "x = [2,3,6]\n",
    "y = [3,4,5]\n",
    "out = []\n",
    "\n",
    "for index in range(len(x)):\n",
    "    for i in range(len(y)):\n",
    "        out.append(x[index]*y[i])\n",
    "        \n",
    "print(out)"
   ]
  },
  {
   "cell_type": "code",
   "execution_count": 4,
   "metadata": {
    "colab": {
     "base_uri": "https://localhost:8080/"
    },
    "id": "PHeftQRh6foE",
    "outputId": "d448b05e-f65d-4b3e-b59d-2466e024bfab"
   },
   "outputs": [
    {
     "name": "stdout",
     "output_type": "stream",
     "text": [
      "1 4 2 3\n",
      "2 1 4 6 10\n",
      "1 4 2 -1 6\n",
      "STOP\n",
      "UB Jumper\n",
      "UB Jumper\n",
      "Not UB Jumper\n"
     ]
    }
   ],
   "source": [
    "#task4\n",
    "\n",
    "list = []\n",
    "\n",
    "while True:\n",
    "    user_input = input()\n",
    "    \n",
    "    if user_input != \"STOP\":\n",
    "        list.append(user_input) \n",
    "        \n",
    "    else:\n",
    "        break \n",
    "\n",
    "for count in list:\n",
    "    list_1=count.split(\" \")\n",
    "    check_list = []\n",
    "    \n",
    "    for x in range(len(list_1)-1):\n",
    "        minus = int(list_1[x])-int(list_1[x+1])\n",
    "        \n",
    "        if minus<0: \n",
    "            check_list.append((minus*-1))\n",
    "            \n",
    "        else:\n",
    "            check_list.append(minus)       \n",
    "    ub_jumper = True \n",
    "    \n",
    "    for counter in range(1,len(list_1)):\n",
    "        if counter in check_list:\n",
    "            pass\n",
    "        \n",
    "        else:\n",
    "            ub_jumper = False\n",
    "            \n",
    "    if ub_jumper == True:\n",
    "        print(\"UB Jumper\")\n",
    "        \n",
    "    else:\n",
    "        print(\"Not UB Jumper\")"
   ]
  },
  {
   "cell_type": "code",
   "execution_count": 8,
   "metadata": {
    "colab": {
     "base_uri": "https://localhost:8080/"
    },
    "id": "2aO_KAa6_LHC",
    "outputId": "9fd0237a-40ad-47f3-e76f-37448d69c961"
   },
   "outputs": [
    {
     "name": "stdout",
     "output_type": "stream",
     "text": [
      "Bracu1234\n",
      "acruB1324\n"
     ]
    }
   ],
   "source": [
    "#task5\n",
    "\n",
    "x = input()\n",
    "up = []\n",
    "low = []\n",
    "even = []\n",
    "odd = []\n",
    "\n",
    "for index in range(len(x)):\n",
    "    if x[index].isalpha():\n",
    "\n",
    "        if x[index].islower():\n",
    "            low.append(x[index])\n",
    "        else:\n",
    "            up.append(x[index])\n",
    "    else:\n",
    "        if int(x[index]) % 2 == 0:\n",
    "            even.append(x[index])\n",
    "        else:\n",
    "            odd.append(x[index])\n",
    "            \n",
    "up.sort()\n",
    "low.sort()\n",
    "even.sort()\n",
    "odd.sort()\n",
    "a = low+up+odd+even\n",
    "op = ''.join(a)\n",
    "\n",
    "print(op)"
   ]
  },
  {
   "cell_type": "code",
   "execution_count": 10,
   "metadata": {
    "colab": {
     "base_uri": "https://localhost:8080/"
    },
    "id": "uyuBM1XI_6vz",
    "outputId": "461af35a-5e3d-474e-d6b4-b6a450438240"
   },
   "outputs": [
    {
     "name": "stdout",
     "output_type": "stream",
     "text": [
      "5 2\n",
      "0 4 5 1 0\n",
      "1\n"
     ]
    }
   ],
   "source": [
    "#task6\n",
    "\n",
    "x, y = [int(index) for index in input().split()]\n",
    "members = input()\n",
    "members = members.split(' ')\n",
    "real = []\n",
    "\n",
    "for index in range(len(members)):\n",
    "    if int(members[index]) <= 5 - y:\n",
    "        real.append(int(members[index]))\n",
    "\n",
    "print(len(real) // 3)"
   ]
  },
  {
   "cell_type": "markdown",
   "metadata": {
    "id": "roajP8gLBtUC"
   },
   "source": [
    "Dictonary & Tuple \n"
   ]
  },
  {
   "cell_type": "code",
   "execution_count": 12,
   "metadata": {
    "colab": {
     "base_uri": "https://localhost:8080/"
    },
    "id": "UsYg6yw0BxEC",
    "outputId": "27a526a7-53ad-4955-fedc-f46417ddd07b"
   },
   "outputs": [
    {
     "name": "stdout",
     "output_type": "stream",
     "text": [
      "a: 100, b: 100, c: 200, d: 300\n",
      "a: 300, b: 200, d: 400, e: 200\n",
      "{'a': 400, ' b': 300, ' c': 200, ' d': 700, ' e': 200}\n",
      "Values: (200, 300, 400, 700)\n"
     ]
    }
   ],
   "source": [
    "#task 1\n",
    "\n",
    "dict_1 = {}\n",
    "dict_2 = {}\n",
    "pair_1 = input().split(',')\n",
    "pair_2 = input().split(',')\n",
    "\n",
    "for index in range (len(pair_1)):\n",
    "    temp = pair_1[index].split(':')\n",
    "    dict_1[temp[0]] = int(temp[1])\n",
    "    \n",
    "for index in range (len(pair_2)):\n",
    "    temp = pair_2[index].split(':')\n",
    "    dict_2[temp[0]] = int(temp[1])\n",
    "\n",
    "for items in dict_2:\n",
    "    if items in dict_1.keys():\n",
    "        dict_1[items] = dict_1[items] + dict_2[items]\n",
    "        \n",
    "    else:\n",
    "        dict_1[items] = dict_2[items]\n",
    "print(dict_1)\n",
    "\n",
    "list_1 = []\n",
    "for val in dict_1.values():\n",
    "    if val not in list_1:\n",
    "        list_1.append(val)\n",
    "        x = sorted(list_1)\n",
    "tup_1 = tuple(x)\n",
    "\n",
    "print(\"Values:\", tup_1)"
   ]
  },
  {
   "cell_type": "code",
   "execution_count": 1,
   "metadata": {
    "colab": {
     "base_uri": "https://localhost:8080/"
    },
    "id": "zxrnZxo5iklu",
    "outputId": "90f00135-eec2-4fba-94ee-a5af0ed4828d"
   },
   "outputs": [
    {
     "name": "stdout",
     "output_type": "stream",
     "text": [
      "10\n",
      "20\n",
      "20\n",
      "20\n",
      "30\n",
      "30\n",
      "40\n",
      "40\n",
      "70\n",
      "STOP\n",
      "10 - 1 times\n",
      "20 - 3 times\n",
      "30 - 2 times\n",
      "40 - 2 times\n",
      "70 - 1 times\n"
     ]
    }
   ],
   "source": [
    "#task2\n",
    "\n",
    "dict = {}\n",
    "uphold = True\n",
    "\n",
    "while uphold == True:\n",
    "    x = input()\n",
    "    \n",
    "    if x == \"STOP\":\n",
    "        uphold = False\n",
    "        \n",
    "    else:\n",
    "        num = int(x)\n",
    "        \n",
    "        if num not in dict.keys():\n",
    "            dict[num] = 1\n",
    "        else:\n",
    "            dict[num] += 1\n",
    "            \n",
    "for key,value in dict.items():\n",
    "    print(key,\"-\",value,\"times\")"
   ]
  },
  {
   "cell_type": "code",
   "execution_count": 6,
   "metadata": {
    "id": "R_PoNdJ-rHXF"
   },
   "outputs": [
    {
     "name": "stdout",
     "output_type": "stream",
     "text": [
      "key1 : value1, key2 : value2, key3 : value1\n",
      "{' value1': ['key1 ', ' key3 '], ' value2': [' key2 ']}\n"
     ]
    }
   ],
   "source": [
    "#task3\n",
    "\n",
    "dict_1 ={}\n",
    "dict_2 = {}\n",
    "inp = input().split(',')\n",
    "\n",
    "for index in range(len(inp)):\n",
    "    temp = inp[index].split(':')\n",
    "    dict_1[temp[0]] = (temp[1])  \n",
    "\n",
    "for keys,values in dict_1.items():\n",
    "    if values not in dict_2.keys():\n",
    "        dict_2[values] = [keys]\n",
    "        \n",
    "    else:\n",
    "        dict_2[values] = dict_2[values]+ [keys]\n",
    "\n",
    "print(dict_2)"
   ]
  },
  {
   "cell_type": "code",
   "execution_count": 8,
   "metadata": {
    "id": "YVEZ9OvGw6Wc"
   },
   "outputs": [
    {
     "name": "stdout",
     "output_type": "stream",
     "text": [
      "evil\n",
      "live\n",
      "Those strings are anagrams.\n"
     ]
    }
   ],
   "source": [
    "#task4\n",
    "\n",
    "s1 = input()\n",
    "s2 = input()\n",
    "\n",
    "if len(s1) != len(s2):\n",
    "    print(\"Those strings are not anagrams.\")\n",
    "    \n",
    "else:    \n",
    "    list_1 = []\n",
    "    list_2 = []\n",
    "    \n",
    "    for index in range(len(s1)):\n",
    "        list_1.append(s1[index])\n",
    "        \n",
    "    for i in range(len(s2)):\n",
    "         list_2.append(s2[index])\n",
    "    count_1 = 0\n",
    "    \n",
    "    for index in range(len(s1)):\n",
    "        for i in range(len(s2)):\n",
    "            if s1[index] in s2[i]:\n",
    "                count_1 = count_1 + 1\n",
    "                \n",
    "    if count_1 == len(s1) == len(s2):\n",
    "        print('Those strings are anagrams.')\n",
    "        \n",
    "    else:\n",
    "        print('Those strings are not anagrams.')"
   ]
  },
  {
   "cell_type": "code",
   "execution_count": 10,
   "metadata": {
    "id": "kmV7asz-xEmn"
   },
   "outputs": [
    {
     "name": "stdout",
     "output_type": "stream",
     "text": [
      "Hello, World!\n",
      "4433555555666110966677755531111"
     ]
    }
   ],
   "source": [
    "#task5\n",
    "\n",
    "keys = {'.':\"1\",',':'11', '?':'111', '!':'1111', ':':'11111', 'A':'2', 'B':'22', 'C':'222', 'D':'3', 'E':'33', 'F':'333', 'G':'4', 'H':'44', 'I':'444', 'J':'5', 'K':'55', 'L':'555', 'M':'6', 'N':'66', 'O':'666', 'P':'7', 'Q':'77', 'R':'777', 'S':'7777','T':'8','U':'88','V':'888','W':'9','X':'99','Y':'999','Z':'9999',' ':'0', }\n",
    "\n",
    "x = input()\n",
    "x = x.upper()\n",
    "\n",
    "for index in x:\n",
    "    print(keys[index], end=\"\")"
   ]
  },
  {
   "cell_type": "code",
   "execution_count": null,
   "metadata": {},
   "outputs": [],
   "source": []
  }
 ],
 "metadata": {
  "colab": {
   "collapsed_sections": [],
   "name": "Anindya_Das_20201176_06_Assignment1_(CSE111).ipynb",
   "provenance": []
  },
  "kernelspec": {
   "display_name": "Python 3",
   "language": "python",
   "name": "python3"
  },
  "language_info": {
   "codemirror_mode": {
    "name": "ipython",
    "version": 3
   },
   "file_extension": ".py",
   "mimetype": "text/x-python",
   "name": "python",
   "nbconvert_exporter": "python",
   "pygments_lexer": "ipython3",
   "version": "3.8.3"
  }
 },
 "nbformat": 4,
 "nbformat_minor": 1
}
