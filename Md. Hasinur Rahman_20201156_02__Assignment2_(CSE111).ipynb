{
 "cells": [
  {
   "cell_type": "code",
   "execution_count": 3,
   "metadata": {},
   "outputs": [
    {
     "name": "stdout",
     "output_type": "stream",
     "text": [
      "Enter the 1st number: 5\n",
      "Enter the 2nd number: 3\n",
      "0.6666666666666667\n"
     ]
    }
   ],
   "source": [
    "#Task 1\n",
    "\n",
    "def fraction_part(num_one,num_two):\n",
    "    \n",
    "    try:\n",
    "        if num_two==0:\n",
    "            raise ZeroDivisionError\n",
    "        return (num_one/num_two)-(num_one//num_two)\n",
    "\n",
    "    except ZeroDivisionError:\n",
    "        return 0\n",
    "\n",
    "\n",
    "num_one = int(input(\"Enter the 1st number: \"))\n",
    "num_two = int(input(\"Enter the 2nd number: \"))\n",
    "\n",
    "print(fraction_part(num_one,num_two))"
   ]
  },
  {
   "cell_type": "code",
   "execution_count": 2,
   "metadata": {},
   "outputs": [
    {
     "name": "stdout",
     "output_type": "stream",
     "text": [
      "Enter the height in cm: 145\n",
      "Enter the weight in kg: 50\n",
      "Score is 23.8. You are normal\n"
     ]
    }
   ],
   "source": [
    "#Task 2\n",
    "\n",
    "def bmi(height, weight):\n",
    "    BMI = weight/(height/100) ** 2\n",
    "    \n",
    "    if BMI<18.5:\n",
    "        return\"Score is \" + \"{:.1f}\".format(BMI) + \". You are underweight\"\n",
    "    \n",
    "    elif 18.5<=BMI<=24.9:\n",
    "        return\"Score is \" + \"{:.1f}\".format(BMI) + \". You are normal\"\n",
    "    \n",
    "    elif 25<=BMI<=30:\n",
    "        return\"Score is \" + \"{:.1f}\".format(BMI) + \". You are overweight\"\n",
    "    \n",
    "    else:\n",
    "        return\"Score is \" + \"{:.1f}\".format(BMI) + \". You are obese\"\n",
    "\n",
    "\n",
    "height = int(input(\"Enter the height in cm: \"))\n",
    "weight = int(input(\"Enter the weight in kg: \"))\n",
    "\n",
    "print(bmi(height, weight))"
   ]
  },
  {
   "cell_type": "code",
   "execution_count": 5,
   "metadata": {},
   "outputs": [
    {
     "name": "stdout",
     "output_type": "stream",
     "text": [
      "Enter the max value: 0\n",
      "Enter the min value: 10\n",
      "Enter the divisor: 2\n",
      "20\n"
     ]
    }
   ],
   "source": [
    "#Task 3\n",
    "\n",
    "def divisible_nums(min_number, max_number, divisor):\n",
    "    divisible_list = []\n",
    "    \n",
    "    for index in range(min_number, max_number):\n",
    "        if index % divisor == 0:\n",
    "            divisible_list.append(index)\n",
    "\n",
    "    size = len(divisible_list)\n",
    "    total = 0\n",
    "    \n",
    "    for index in range(0, size):\n",
    "        total = total + divisible_list[index]\n",
    "    return total\n",
    "\n",
    "\n",
    "min_number = int(input(\"Enter the max value: \"))\n",
    "max_number = int(input(\"Enter the min value: \"))\n",
    "div = int(input(\"Enter the divisor: \"))\n",
    "\n",
    "print(divisible_nums(min_number, max_number, divisor))"
   ]
  },
  {
   "cell_type": "code",
   "execution_count": 12,
   "metadata": {},
   "outputs": [
    {
     "name": "stdout",
     "output_type": "stream",
     "text": [
      "Enter the name of burger: Beef Burger\n",
      "Enter the location: Dhanmondi\n",
      "243.6\n"
     ]
    }
   ],
   "source": [
    "#Task 4\n",
    "\n",
    "def total_price(burger, place = \"Mohakhali\"):\n",
    "    menu_dic = {\"BBQ Chicken Cheese Burger\": 250, \"Beef Burger\": 170, \"Naga Drums\": 200}\n",
    "    meal_cst = 0\n",
    "    \n",
    "    for index in menu_dic.keys():\n",
    "        if index == burger:\n",
    "            meal_cst += menu_dic.get(index)\n",
    "    tax = meal_cst*(8 / 100)\n",
    "\n",
    "    if place == \"Mohakhali\":\n",
    "        total = meal_cst + tax + 40\n",
    "        \n",
    "    else:\n",
    "        total = meal_cst + tax + 60\n",
    "    return total\n",
    "\n",
    "burger = input(\"Enter the name of burger: \")\n",
    "place = input(\"Enter the location: \")\n",
    "\n",
    "print(total_price(burger, place))"
   ]
  },
  {
   "cell_type": "code",
   "execution_count": 14,
   "metadata": {},
   "outputs": [
    {
     "name": "stdout",
     "output_type": "stream",
     "text": [
      "Enter email to be checked: shad@gmail.com\n",
      "Enter new domain: five.com\n",
      "Enter old domain: gmail.com\n",
      "Changed: shad@five.com\n"
     ]
    }
   ],
   "source": [
    "#Task 5\n",
    "\n",
    "def replace_dom(do_check, new_domain, old_domain=\"kaaj.com\"):\n",
    "    temp =\"\"\n",
    "    \n",
    "    for index in do_check:\n",
    "        if index ==\"@\":\n",
    "            break\n",
    "        temp+=index\n",
    "\n",
    "    domain =\"\"\n",
    "    size_check= len(do_check)\n",
    "    size_temp= len(temp)\n",
    "    for index in range(size_temp + 1, size_check):\n",
    "        domain += do_check[index]\n",
    "\n",
    "    result_email= temp\n",
    "    if domain!=new_domain:\n",
    "        if old_domain==domain:\n",
    "            result_email=temp + \"@\" + new_domain\n",
    "            print(\"Changed:\", result_email)\n",
    "            \n",
    "        else:\n",
    "            result_email=do_check\n",
    "            print(\"Unchanged:\", result_email)\n",
    "            \n",
    "    else:\n",
    "        result_email=do_check\n",
    "        print(\"Unchanged:\", result_email)\n",
    "\n",
    "\n",
    "do_check= input(\"Enter email to be checked: \")\n",
    "new_domain= input(\"Enter new domain: \")\n",
    "old_domain= input(\"Enter old domain: \")\n",
    "\n",
    "if old_domain== \"\":\n",
    "    result_email = replace_dom(do_check, new_domain)\n",
    "    \n",
    "else:\n",
    "    result_email = replace_dom(do_check, new_domain, old_domain)"
   ]
  },
  {
   "cell_type": "code",
   "execution_count": 2,
   "metadata": {},
   "outputs": [
    {
     "name": "stdout",
     "output_type": "stream",
     "text": [
      "Enter the full name: Hasinur Rahman\n",
      "Vowels : a ,i ,u ,a ,a . Total number of vowels: 5\n"
     ]
    }
   ],
   "source": [
    "#Task 6\n",
    "\n",
    "def count_vow(name):\n",
    "    size= len(name)\n",
    "    lower_str= \"\"\n",
    "    \n",
    "    for index in range(size):\n",
    "        if ord(\"A\")<=ord(name[index])<=ord(\"Z\"):\n",
    "            temp=(ord(name[index])) + 32\n",
    "            lower_str+=chr(temp)\n",
    "            \n",
    "        else:\n",
    "            lower_str+=name[index]\n",
    "\n",
    "    vow= \"\"\n",
    "    vol_count= 0\n",
    "    \n",
    "    for index in lower_str:\n",
    "        if index == \"a\" or index == \"e\" or index == \"i\" or index == \"o\" or index == \"u\":\n",
    "            vow += index + \" ,\"\n",
    "            vol_count+=1\n",
    "    if vol_count== 0:\n",
    "        return \"No vowels in the name!\"\n",
    "    \n",
    "    else:\n",
    "        vow = vow[0:-1]\n",
    "        return \"Vowels : \" + vow + \". Total number of vowels: \" + str(vol_count)\n",
    "\n",
    "\n",
    "name = input(\"Enter the full name: \")\n",
    "print(count_vow(name))"
   ]
  },
  {
   "cell_type": "code",
   "execution_count": 4,
   "metadata": {},
   "outputs": [
    {
     "name": "stdout",
     "output_type": "stream",
     "text": [
      "Enter a str: madam\n",
      "Palindrome\n"
     ]
    }
   ],
   "source": [
    "#Task 7\n",
    "\n",
    "def palindrome_check(str):\n",
    "    trimmed_str = \"\"\n",
    "    temp = \"\"\n",
    "    \n",
    "    for index in str:\n",
    "        if index == \" \":\n",
    "            trimmed_str += temp\n",
    "            \n",
    "        else:\n",
    "            trimmed_str += index\n",
    "\n",
    "    new_str = \"\"\n",
    "    size = len(trimmed_str)\n",
    "    \n",
    "    for index in range(size - 1, -1, -1):\n",
    "        new_str += trimmed_str[index]\n",
    "\n",
    "    if trimmed_str == new_str:\n",
    "        return \"Palindrome\"\n",
    "    \n",
    "    else:\n",
    "        return \"Not a palindrome\"\n",
    "\n",
    "\n",
    "str = input(\"Enter a str: \").lower()\n",
    "print(palindrome_check(str))"
   ]
  },
  {
   "cell_type": "code",
   "execution_count": 4,
   "metadata": {},
   "outputs": [
    {
     "name": "stdout",
     "output_type": "stream",
     "text": [
      "Enter the number: 4000\n",
      "10 year, 11 month and 2 day.\n"
     ]
    }
   ],
   "source": [
    "#Task 8\n",
    "\n",
    "def covert(day):\n",
    "    year= inp_day//365\n",
    "    month= (inp_day % 365)//30\n",
    "    day= (inp_day % 365)%12\n",
    "\n",
    "    return str(year) + \" year, \" + str(month) + \" month and \" + str(day) + \" day.\"\n",
    "\n",
    "\n",
    "inp_day = int(input(\"Enter the number: \"))\n",
    "print(covert(inp_day))"
   ]
  },
  {
   "cell_type": "code",
   "execution_count": 5,
   "metadata": {},
   "outputs": [
    {
     "name": "stdout",
     "output_type": "stream",
     "text": [
      "Enter the string: my favourite animal is a dog. a dog has sharp teeth so that it can eat flesh very easily. do you know my pet dog’s name? i love my pet very much.\n",
      "My favourite animal is a dog. A dog has sharp teeth so that it can eat flesh very easily. Do you know my pet dog’s name? I love my pet very much.\n"
     ]
    }
   ],
   "source": [
    "#Task 9\n",
    "\n",
    "def capitalization(str):\n",
    "    size = len(str)\n",
    "    new_str = \"\"\n",
    "    \n",
    "    for index in range(size):\n",
    "        if index == 0:\n",
    "            \n",
    "            if ord(\"a\") <= ord(str[index]) <= ord(\"z\"):\n",
    "                temp = ord(str[index]) - 32\n",
    "                new_str += chr(temp)\n",
    "                \n",
    "            else:\n",
    "                new_str += str[index]\n",
    "\n",
    "        elif index > 2 and (str[index - 2] == \"?\" or str[index - 2] == \".\" or str[index - 2] == \"!\"):\n",
    "            if ord(\"a\") <= ord(str[index]) <= ord(\"z\"):\n",
    "                temp = ord(str[index]) - 32\n",
    "                new_str += chr(temp)\n",
    "            else:\n",
    "                new_str += str[index]\n",
    "\n",
    "        elif str[index] == \"i\":\n",
    "            if str[index - 1] == \" \" and (\n",
    "                    str[index + 1] == \" \" or str[index + 1] == \".\" or str[index + 1] == \"?\" or str[index + 1] == \"!\"):\n",
    "                temp = ord(str[index]) - 32\n",
    "                new_str += chr(temp)\n",
    "                \n",
    "            else:\n",
    "                new_str += str[index]\n",
    "\n",
    "        else:\n",
    "            if ord(\"A\") <= ord(str[index]) <= ord(\"Z\"):\n",
    "                temp = ord(str[index]) + 32\n",
    "                new_str += chr(temp)\n",
    "            else:\n",
    "                new_str += str[index]\n",
    "\n",
    "    return new_str\n",
    "\n",
    "\n",
    "str = input(\"Enter the string: \")\n",
    "\n",
    "print(capitalization(str))"
   ]
  },
  {
   "cell_type": "code",
   "execution_count": null,
   "metadata": {},
   "outputs": [],
   "source": []
  }
 ],
 "metadata": {
  "kernelspec": {
   "display_name": "Python 3",
   "language": "python",
   "name": "python3"
  },
  "language_info": {
   "codemirror_mode": {
    "name": "ipython",
    "version": 3
   },
   "file_extension": ".py",
   "mimetype": "text/x-python",
   "name": "python",
   "nbconvert_exporter": "python",
   "pygments_lexer": "ipython3",
   "version": "3.8.3"
  }
 },
 "nbformat": 4,
 "nbformat_minor": 4
}
